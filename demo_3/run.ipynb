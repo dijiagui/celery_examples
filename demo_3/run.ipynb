{
 "cells": [
  {
   "cell_type": "code",
   "execution_count": 2,
   "metadata": {},
   "outputs": [],
   "source": [
    "from tasks import *"
   ]
  },
  {
   "cell_type": "code",
   "execution_count": 5,
   "metadata": {},
   "outputs": [
    {
     "data": {
      "text/plain": [
       "<AsyncResult: 94a8b0a1-5217-4b75-9334-fd635a9f3aa4>"
      ]
     },
     "execution_count": 5,
     "metadata": {},
     "output_type": "execute_result"
    }
   ],
   "source": [
    "hello.delay()"
   ]
  },
  {
   "cell_type": "code",
   "execution_count": 4,
   "metadata": {},
   "outputs": [
    {
     "data": {
      "text/plain": [
       "<AsyncResult: 0c0e4888-ef50-49d7-b05d-8a0f975d72cd>"
      ]
     },
     "execution_count": 4,
     "metadata": {},
     "output_type": "execute_result"
    }
   ],
   "source": [
    "hello_share.delay()"
   ]
  },
  {
   "cell_type": "code",
   "execution_count": 5,
   "metadata": {},
   "outputs": [
    {
     "data": {
      "text/plain": [
       "<AsyncResult: 44a16fbd-ebae-4513-9a8c-fed02f9ec49b>"
      ]
     },
     "execution_count": 5,
     "metadata": {},
     "output_type": "execute_result"
    }
   ],
   "source": [
    "try_load_base.delay()"
   ]
  },
  {
   "cell_type": "code",
   "execution_count": 6,
   "metadata": {},
   "outputs": [
    {
     "data": {
      "text/plain": [
       "<AsyncResult: d51ddef2-2811-4d22-8751-e9f70d610804>"
      ]
     },
     "execution_count": 6,
     "metadata": {},
     "output_type": "execute_result"
    }
   ],
   "source": [
    "soft_time_limit_task.delay()\n",
    "time_limit_task.delay()"
   ]
  },
  {
   "cell_type": "code",
   "execution_count": 9,
   "metadata": {},
   "outputs": [
    {
     "data": {
      "text/plain": [
       "<AsyncResult: ded9b276-2c22-472d-ae7b-d4524f049632>"
      ]
     },
     "execution_count": 9,
     "metadata": {},
     "output_type": "execute_result"
    }
   ],
   "source": [
    "task_auto_retry.delay()"
   ]
  },
  {
   "cell_type": "code",
   "execution_count": 4,
   "metadata": {},
   "outputs": [
    {
     "data": {
      "text/plain": [
       "<AsyncResult: 3db56694-c8a4-44cf-8d90-a2cc9fa34359>"
      ]
     },
     "execution_count": 4,
     "metadata": {},
     "output_type": "execute_result"
    }
   ],
   "source": [
    "task_auto_ack_late.delay()"
   ]
  },
  {
   "cell_type": "code",
   "execution_count": 2,
   "metadata": {},
   "outputs": [],
   "source": [
    "r = task_update_stats.delay()"
   ]
  },
  {
   "cell_type": "code",
   "execution_count": 3,
   "metadata": {},
   "outputs": [
    {
     "name": "stdout",
     "output_type": "stream",
     "text": [
      "{'status': 'PROGRESS', 'result': {'current': 0, 'total': 100}, 'traceback': None, 'children': [], 'task_id': '17fa1ea5-beb5-43a5-91f3-932b69997b1f', 'date_done': None}\n",
      "{'status': 'PROGRESS', 'result': {'current': 10, 'total': 100}, 'traceback': None, 'children': [], 'task_id': '17fa1ea5-beb5-43a5-91f3-932b69997b1f', 'date_done': None}\n",
      "{'status': 'PROGRESS', 'result': {'current': 20, 'total': 100}, 'traceback': None, 'children': [], 'task_id': '17fa1ea5-beb5-43a5-91f3-932b69997b1f', 'date_done': None}\n",
      "{'status': 'PROGRESS', 'result': {'current': 30, 'total': 100}, 'traceback': None, 'children': [], 'task_id': '17fa1ea5-beb5-43a5-91f3-932b69997b1f', 'date_done': None}\n",
      "{'status': 'PROGRESS', 'result': {'current': 40, 'total': 100}, 'traceback': None, 'children': [], 'task_id': '17fa1ea5-beb5-43a5-91f3-932b69997b1f', 'date_done': None}\n",
      "{'status': 'PROGRESS', 'result': {'current': 50, 'total': 100}, 'traceback': None, 'children': [], 'task_id': '17fa1ea5-beb5-43a5-91f3-932b69997b1f', 'date_done': None}\n",
      "{'status': 'PROGRESS', 'result': {'current': 60, 'total': 100}, 'traceback': None, 'children': [], 'task_id': '17fa1ea5-beb5-43a5-91f3-932b69997b1f', 'date_done': None}\n",
      "{'status': 'PROGRESS', 'result': {'current': 70, 'total': 100}, 'traceback': None, 'children': [], 'task_id': '17fa1ea5-beb5-43a5-91f3-932b69997b1f', 'date_done': None}\n",
      "{'status': 'PROGRESS', 'result': {'current': 80, 'total': 100}, 'traceback': None, 'children': [], 'task_id': '17fa1ea5-beb5-43a5-91f3-932b69997b1f', 'date_done': None}\n",
      "{'status': 'PROGRESS', 'result': {'current': 90, 'total': 100}, 'traceback': None, 'children': [], 'task_id': '17fa1ea5-beb5-43a5-91f3-932b69997b1f', 'date_done': None}\n",
      "{'status': 'SUCCESS', 'result': None, 'traceback': None, 'children': [], 'task_id': '17fa1ea5-beb5-43a5-91f3-932b69997b1f', 'date_done': '2019-12-18T05:17:25.918037'}\n",
      "None\n"
     ]
    }
   ],
   "source": [
    "def on_raw_message(body):\n",
    "    print(body)\n",
    "\n",
    "print(r.get(on_message=on_raw_message, propagate=False))"
   ]
  },
  {
   "cell_type": "code",
   "execution_count": 4,
   "metadata": {},
   "outputs": [],
   "source": [
    "r.forget()"
   ]
  },
  {
   "cell_type": "code",
   "execution_count": 6,
   "metadata": {},
   "outputs": [
    {
     "data": {
      "text/plain": [
       "<AsyncResult: a2e9ae44-851c-4834-8366-48b7f6127339>"
      ]
     },
     "execution_count": 6,
     "metadata": {},
     "output_type": "execute_result"
    }
   ],
   "source": [
    "hello.delay()\n",
    "hello.apply_async()"
   ]
  },
  {
   "cell_type": "code",
   "execution_count": 4,
   "metadata": {},
   "outputs": [
    {
     "data": {
      "text/plain": [
       "<AsyncResult: 37181221-ff6b-46a6-afb6-52c99265ad4d>"
      ]
     },
     "execution_count": 4,
     "metadata": {},
     "output_type": "execute_result"
    }
   ],
   "source": [
    "task_eta.apply_async(countdown=5)\n"
   ]
  },
  {
   "cell_type": "code",
   "execution_count": 2,
   "metadata": {},
   "outputs": [
    {
     "data": {
      "text/plain": [
       "<AsyncResult: 291f8f1a-dbd2-4033-a94f-3cf05a39d63b>"
      ]
     },
     "execution_count": 2,
     "metadata": {},
     "output_type": "execute_result"
    }
   ],
   "source": [
    "long_task.delay()\n"
   ]
  },
  {
   "cell_type": "markdown",
   "metadata": {},
   "source": [
    "# workflow"
   ]
  },
  {
   "cell_type": "code",
   "execution_count": 8,
   "metadata": {},
   "outputs": [
    {
     "data": {
      "text/plain": [
       "<AsyncResult: f8cb7026-2f5e-4d21-bc36-c46336ab232c>"
      ]
     },
     "execution_count": 8,
     "metadata": {},
     "output_type": "execute_result"
    }
   ],
   "source": [
    "add.apply_async((1,2), link=mul.s(3))\n",
    "# (add.s(1,2)| mul.s(3)).delay()\n"
   ]
  },
  {
   "cell_type": "code",
   "execution_count": 11,
   "metadata": {},
   "outputs": [
    {
     "data": {
      "text/plain": [
       "[0, 2, 4, 6, 8, 10, 12, 14, 16, 18]"
      ]
     },
     "execution_count": 11,
     "metadata": {},
     "output_type": "execute_result"
    }
   ],
   "source": [
    "from celery import group\n",
    "a = group(add.s(i, i) for i in range(10))()\n",
    "a.get()"
   ]
  },
  {
   "cell_type": "code",
   "execution_count": 13,
   "metadata": {},
   "outputs": [],
   "source": [
    "from celery import chord\n",
    "a = chord(add.s(i, i) for i in range(10))(hello.si())\n",
    "a.get()"
   ]
  },
  {
   "cell_type": "code",
   "execution_count": null,
   "metadata": {},
   "outputs": [],
   "source": []
  },
  {
   "cell_type": "code",
   "execution_count": 37,
   "metadata": {},
   "outputs": [],
   "source": [
    "from celery import group\n",
    "from celery import chord\n",
    "\n",
    "num_list = []\n",
    "task_list = [chord(div.s(i, j) for j in range(2, i-1))(find_zero.s(i)) for i in range(3,100, 2)]"
   ]
  },
  {
   "cell_type": "code",
   "execution_count": 36,
   "metadata": {},
   "outputs": [
    {
     "data": {
      "text/plain": [
       "[3,\n",
       " 5,\n",
       " 7,\n",
       " 11,\n",
       " 13,\n",
       " 17,\n",
       " 19,\n",
       " 23,\n",
       " 29,\n",
       " 31,\n",
       " 37,\n",
       " 41,\n",
       " 43,\n",
       " 47,\n",
       " 53,\n",
       " 59,\n",
       " 61,\n",
       " 67,\n",
       " 71,\n",
       " 73,\n",
       " 79,\n",
       " 83,\n",
       " 89,\n",
       " 97]"
      ]
     },
     "execution_count": 36,
     "metadata": {},
     "output_type": "execute_result"
    }
   ],
   "source": [
    "num_list = []\n",
    "for task in task_list:\n",
    "    if task.get():\n",
    "        num_list.append(task.get())\n",
    "num_list"
   ]
  },
  {
   "cell_type": "code",
   "execution_count": null,
   "metadata": {},
   "outputs": [],
   "source": []
  },
  {
   "cell_type": "code",
   "execution_count": null,
   "metadata": {},
   "outputs": [],
   "source": [
    "# 首先获取1-1000所有奇质数\n",
    "num_list = []\n",
    "for i in range(3,1000, 2):\n",
    "    for j in range(2, i-1):\n",
    "        if not i % j:\n",
    "           break \n",
    "    else:\n",
    "        num_list.append(i)\n",
    "            \n",
    "\n",
    "\n",
    "for i in range(6, 1000, 2):\n",
    "    for j in num_list:\n",
    "        if j > i:\n",
    "            break\n",
    "        for k in num_list:\n",
    "            if k < j:\n",
    "                continue\n",
    "            if k > i:\n",
    "                break\n",
    "            if i - j == k:\n",
    "                print(i, j, k)\n",
    "                break\n",
    "        else:\n",
    "            print('wrong')\n"
   ]
  },
  {
   "cell_type": "code",
   "execution_count": null,
   "metadata": {},
   "outputs": [],
   "source": []
  }
 ],
 "metadata": {
  "kernelspec": {
   "display_name": "Python 3",
   "language": "python",
   "name": "python3"
  },
  "language_info": {
   "codemirror_mode": {
    "name": "ipython",
    "version": 3
   },
   "file_extension": ".py",
   "mimetype": "text/x-python",
   "name": "python",
   "nbconvert_exporter": "python",
   "pygments_lexer": "ipython3",
   "version": "3.7.0"
  }
 },
 "nbformat": 4,
 "nbformat_minor": 2
}
